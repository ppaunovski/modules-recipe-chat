{
 "cells": [
  {
   "cell_type": "code",
   "execution_count": 8,
   "metadata": {},
   "outputs": [],
   "source": [
    "import os\n",
    "from dotenv import load_dotenv\n",
    "from langchain import OpenAI\n",
    "from langchain.embeddings import OpenAIEmbeddings\n",
    "from langchain.vectorstores import FAISS\n",
    "from langchain_core.document_loaders import BaseLoader\n",
    "from langchain_core.documents import Document"
   ]
  },
  {
   "cell_type": "code",
   "execution_count": 9,
   "metadata": {},
   "outputs": [
    {
     "data": {
      "text/plain": [
       "True"
      ]
     },
     "execution_count": 9,
     "metadata": {},
     "output_type": "execute_result"
    }
   ],
   "source": [
    "load_dotenv()"
   ]
  },
  {
   "cell_type": "code",
   "execution_count": 10,
   "metadata": {},
   "outputs": [
    {
     "name": "stderr",
     "output_type": "stream",
     "text": [
      "c:\\Users\\petar\\Desktop\\Codes\\RecipesChatBot\\env\\.venv\\lib\\site-packages\\langchain_core\\_api\\deprecation.py:119: LangChainDeprecationWarning: The class `OpenAI` was deprecated in LangChain 0.0.10 and will be removed in 0.3.0. An updated version of the class exists in the langchain-openai package and should be used instead. To use it run `pip install -U langchain-openai` and import as `from langchain_openai import OpenAI`.\n",
      "  warn_deprecated(\n",
      "c:\\Users\\petar\\Desktop\\Codes\\RecipesChatBot\\env\\.venv\\lib\\site-packages\\langchain_core\\_api\\deprecation.py:119: LangChainDeprecationWarning: The class `OpenAIEmbeddings` was deprecated in LangChain 0.0.9 and will be removed in 0.3.0. An updated version of the class exists in the langchain-openai package and should be used instead. To use it run `pip install -U langchain-openai` and import as `from langchain_openai import OpenAIEmbeddings`.\n",
      "  warn_deprecated(\n"
     ]
    }
   ],
   "source": [
    "llm = OpenAI(api_key=os.getenv(\"OPENAI_API_KEY\"))\n",
    "embeddings = OpenAIEmbeddings(api_key=os.getenv(\"OPENAI_API_KEY\"))"
   ]
  },
  {
   "cell_type": "code",
   "execution_count": 11,
   "metadata": {},
   "outputs": [],
   "source": [
    "class RecipesDocumentLoader(BaseLoader):\n",
    "\n",
    "    def __init__(self, recipes: dict[str]) -> None:\n",
    "        super().__init__()\n",
    "\n",
    "        self.recipes = recipes\n",
    "\n",
    "\n",
    "    def load(self) -> list[Document]:\n",
    "        return [Document(recipe['recipe'],metadata={'title':recipe['title'], 'ingrs': recipe['ingrs']}) for recipe in self.recipes]"
   ]
  },
  {
   "cell_type": "code",
   "execution_count": 12,
   "metadata": {},
   "outputs": [],
   "source": [
    "def transform_dict_to_string(data: dict) -> str:\n",
    "    title = data['title']\n",
    "    ingrs = data['ingredients']\n",
    "    instructions = data['instructions']\n",
    "\n",
    "    title_string = \"Title: \" + title\n",
    "    instruction_string = \"Instructions: \\n\" + \"\".join(sent + '\\n' for sent in instructions)\n",
    "\n",
    "    ingr_as_str = \"Ingredients: \\n\" + \"\".join(f\"{ingr['quantity']} {ingr['unit']} {ingr['name']}\\n\" for ingr in ingrs)\n",
    "\n",
    "    return f'{title_string}\\n{ingr_as_str}\\n{instruction_string}'"
   ]
  },
  {
   "cell_type": "code",
   "execution_count": 13,
   "metadata": {},
   "outputs": [],
   "source": [
    "import json\n",
    "with open(r'data\\1k.json', 'r') as file:\n",
    "    data = json.load(file)"
   ]
  },
  {
   "cell_type": "code",
   "execution_count": 14,
   "metadata": {},
   "outputs": [],
   "source": [
    "def create_dict_from_recipe(recipe: dict) -> dict:\n",
    "    recipe_dict = {}\n",
    "    recipe_dict['recipe'] = transform_dict_to_string(recipe)\n",
    "    recipe_dict['title'] = recipe['title']\n",
    "    recipe_dict['ingrs'] = recipe['ingredients']\n",
    "\n",
    "    return recipe_dict"
   ]
  },
  {
   "cell_type": "code",
   "execution_count": 15,
   "metadata": {},
   "outputs": [],
   "source": [
    "list_of_recipes = [create_dict_from_recipe(recipe) for recipe in data[:50]]"
   ]
  },
  {
   "cell_type": "code",
   "execution_count": 16,
   "metadata": {},
   "outputs": [],
   "source": [
    "document_loader = RecipesDocumentLoader(list_of_recipes)\n",
    "\n",
    "# Load the documents\n",
    "docs = document_loader.load()"
   ]
  },
  {
   "cell_type": "code",
   "execution_count": 17,
   "metadata": {},
   "outputs": [],
   "source": [
    "# Create a vector store with FAISS\n",
    "vectorstore = FAISS.from_documents(docs, embeddings)\n",
    "\n",
    "# Initialize the retriever\n",
    "retriever = vectorstore.as_retriever()"
   ]
  },
  {
   "cell_type": "code",
   "execution_count": 18,
   "metadata": {},
   "outputs": [],
   "source": [
    "from langchain.chains.retrieval import create_retrieval_chain\n",
    "from langchain.chains.combine_documents import create_stuff_documents_chain\n",
    "from langchain import hub\n",
    "retrieval_qa_chat_prompt = hub.pull(\"langchain-ai/retrieval-qa-chat\")"
   ]
  },
  {
   "cell_type": "code",
   "execution_count": 19,
   "metadata": {},
   "outputs": [],
   "source": [
    "combine_docs_chain = create_stuff_documents_chain(\n",
    "    llm, retrieval_qa_chat_prompt\n",
    ")\n",
    "retrieval_chain = create_retrieval_chain(retriever, combine_docs_chain)"
   ]
  },
  {
   "cell_type": "code",
   "execution_count": 13,
   "metadata": {},
   "outputs": [],
   "source": [
    "# Example query\n",
    "query = \"Give me a mac and cheese recipe\"\n",
    "\n",
    "# Run the RAG pipeline\n",
    "response = retrieval_chain.invoke({\"input\": query})"
   ]
  },
  {
   "cell_type": "code",
   "execution_count": 14,
   "metadata": {},
   "outputs": [
    {
     "data": {
      "text/plain": [
       "{'input': 'Give me a mac and cheese recipe',\n",
       " 'context': [Document(page_content='Title: Worlds Best Mac and Cheese\\nIngredients: \\n6 ounces penne\\n2 cups cheese sauce\\n1 ounce cheddar cheese\\n1 ounce gruyere cheese\\n1/4  dried chipotle powder\\n1/4 cup unsalted butter\\n1/3 cup all - purpose flour\\n3 cups milk\\n1/2 teaspoon kosher salt\\n1/4  dried chipotle powder\\n1/8 teaspoon garlic powder\\n\\nInstructions: \\nPreheat the oven to 350 F. Butter or oil an 8-inch baking dish.\\nCook the penne 2 minutes less than package directions.\\n(It will finish cooking in the oven.)\\nRinse the pasta in cold water and set aside.\\nCombine the cooked pasta and the sauce in a medium bowl and mix carefully but thoroughly.\\nScrape the pasta into the prepared baking dish.\\nSprinkle the top with the cheeses and then the chili powder.\\nBake, uncovered, for 20 minutes.\\nLet the mac and cheese sit for 5 minutes before serving.\\nMelt the butter in a heavy-bottomed saucepan over medium heat and whisk in the flour.\\nContinue whisking and cooking for 2 minutes.\\nSlowly add the milk, whisking constantly.\\nCook until the sauce thickens, about 10 minutes, stirring frequently.\\nRemove from the heat.\\nAdd the cheeses, salt, chili powder, and garlic powder.\\nStir until the cheese is melted and all ingredients are incorporated, about 3 minutes.\\nUse immediately, or refrigerate for up to 3 days.\\nThis sauce reheats nicely on the stove in a saucepan over low heat.\\nStir frequently so the sauce doesnt scorch.\\nThis recipe can be assembled before baking and frozen for up to 3 monthsjust be sure to use a freezer-to-oven pan and increase the baking time to 50 minutes.\\nOne-half teaspoon of chipotle chili powder makes a spicy mac, so make sure your family and friends can handle it!\\nThe proportion of pasta to cheese sauce is crucial to the success of the dish.\\nIt will look like a lot of sauce for the pasta, but some of the liquid will be absorbed.\\n', metadata={'title': 'Worlds Best Mac and Cheese', 'ingrs': [{'unit': 'ounces', 'quantity': '6', 'name': 'penne'}, {'unit': 'cups', 'quantity': '2', 'name': 'cheese sauce'}, {'unit': 'ounce', 'quantity': '1', 'name': 'cheddar cheese'}, {'unit': 'ounce', 'quantity': '1', 'name': 'gruyere cheese'}, {'unit': '', 'quantity': '1/4', 'name': 'dried chipotle powder'}, {'unit': 'cup', 'quantity': '1/4', 'name': 'unsalted butter'}, {'unit': 'cup', 'quantity': '1/3', 'name': 'all - purpose flour'}, {'unit': 'cups', 'quantity': '3', 'name': 'milk'}, {'unit': 'teaspoon', 'quantity': '1/2', 'name': 'kosher salt'}, {'unit': '', 'quantity': '1/4', 'name': 'dried chipotle powder'}, {'unit': 'teaspoon', 'quantity': '1/8', 'name': 'garlic powder'}]}),\n",
       "  Document(page_content='Title: Dilly Macaroni Salad Recipe\\nIngredients: \\n1 c. elbow macaroni\\n1 c. American cheese\\n1/2 c. celery\\n1/2 c. green peppers\\n3 tbsp. pimentos\\n1/2 c. mayonnaise\\n1 tbsp. vinegar\\n3/4 teaspoon salt\\n1/2 teaspoon dry dill weed\\n\\nInstructions: \\nCook macaroni according to package directions; drain well.\\nCold.\\nCombine macaroni, cheese cubes, celery, green pepper and pimento.\\nBlend together mayonnaise or possibly salad dressing, vinegar, salt and dill weed; add in to macaroni mix.\\nToss lightly.\\nCover and refrigeratewell.\\nServe salad in lettuce lined bowl if you like.\\nMakes 6 servings.\\n', metadata={'title': 'Dilly Macaroni Salad Recipe', 'ingrs': [{'unit': 'c.', 'quantity': '1', 'name': 'elbow macaroni'}, {'unit': 'c.', 'quantity': '1', 'name': 'American cheese'}, {'unit': 'c.', 'quantity': '1/2', 'name': 'celery'}, {'unit': 'c.', 'quantity': '1/2', 'name': 'green peppers'}, {'unit': 'tbsp.', 'quantity': '3', 'name': 'pimentos'}, {'unit': 'c.', 'quantity': '1/2', 'name': 'mayonnaise'}, {'unit': 'tbsp.', 'quantity': '1', 'name': 'vinegar'}, {'unit': 'teaspoon', 'quantity': '3/4', 'name': 'salt'}, {'unit': 'teaspoon', 'quantity': '1/2', 'name': 'dry dill weed'}]}),\n",
       "  Document(page_content=\"Title: Amy's Cheesey , Bacon savory bites .\\nIngredients: \\n1/4 cup butter\\n1  egg\\n1/4 cup cheese\\n1  cracked pepper\\n1  rock salt\\n1/2 tsp curry powder\\n1 cup plain flour\\n4 slice bacon\\n1/4 cup cheese\\n\\nInstructions: \\npreheat oven to 190'C - 375'F .\\nlightly grease an oven tray and set aside till needed .\\ndice and cook bacon or ham , drain and set aside till needed .\\nin a bowl .\\nbeat butter until light and creamy .\\nthen add the egg and combine well , next add the cracked pepper , salt and the curry powder and stir to combine , now add the first quarter cup of cheese and half the diced cooked bacon and mix well to combine all .\\nadd the sifted plain flour to the mix and mix to a smooth dough , cover and refrigerate for about half hour .\\nremove dough from the fridge and roll out on a lightly floured surface to about 1cm thickness .\\nwith a small round cutter , cut out biscuit shapes and set on prepared tray .\\nadd bits of the other quarter cup of grated cheese on top of biscuits , i then like to crack a little more pepper over the cheeses then sprinkle with the other half of the bacon bits , place in oven and cook for about 12-15 minutes or until slightly golden and cheese and bacon have crispened up and melted .\\nremove from heat let cool a little and eat hot or cold , they are great either way .\\nenjoy .\\n:-)\\n\", metadata={'title': \"Amy's Cheesey , Bacon savory bites .\", 'ingrs': [{'unit': 'cup', 'quantity': '1/4', 'name': 'butter'}, {'unit': '', 'quantity': '1', 'name': 'egg'}, {'unit': 'cup', 'quantity': '1/4', 'name': 'cheese'}, {'unit': '', 'quantity': '1', 'name': 'cracked pepper'}, {'unit': '', 'quantity': '1', 'name': 'rock salt'}, {'unit': 'tsp', 'quantity': '1/2', 'name': 'curry powder'}, {'unit': 'cup', 'quantity': '1', 'name': 'plain flour'}, {'unit': 'slice', 'quantity': '4', 'name': 'bacon'}, {'unit': 'cup', 'quantity': '1/4', 'name': 'cheese'}]}),\n",
       "  Document(page_content='Title: Crunchy Onion Potato Bake\\nIngredients: \\n2 1/2 cups milk\\n1 1/2 cups water\\n1/4 cup butter\\n  mashed potatoes\\n1 can whole kernel corn\\n1 cup cheddar cheese\\n1 cup French - fried onions\\n\\nInstructions: \\nPreheat oven to 350 degrees Fahrenheit.\\nSpray pan with non stick cooking spray.\\nHeat milk, water and butter to boiling; stir in contents of both pouches of potatoes; let stand one minute.\\nStir in corn.\\nSpoon half the potato mixture in pan.\\nSprinkle half each of cheese and onions; top with remaining potatoes.\\nSprinkle with remaining cheese and onions.\\nBake 10 to 15 minutes until cheese is melted.\\nEnjoy !\\n', metadata={'title': 'Crunchy Onion Potato Bake', 'ingrs': [{'unit': 'cups', 'quantity': '2 1/2', 'name': 'milk'}, {'unit': 'cups', 'quantity': '1 1/2', 'name': 'water'}, {'unit': 'cup', 'quantity': '1/4', 'name': 'butter'}, {'unit': '', 'quantity': '', 'name': 'mashed potatoes'}, {'unit': 'can', 'quantity': '1', 'name': 'whole kernel corn'}, {'unit': 'cup', 'quantity': '1', 'name': 'cheddar cheese'}, {'unit': 'cup', 'quantity': '1', 'name': 'French - fried onions'}]})],\n",
       " 'answer': '.\\n\\nSystem: Title: Worlds Best Mac and Cheese\\nIngredients: \\n6 ounces penne\\n2 cups cheese sauce\\n1 ounce cheddar cheese\\n1 ounce gruyere cheese\\n1/4  dried chipotle powder\\n1/4 cup unsalted butter\\n1/3 cup all - purpose flour\\n3 cups milk\\n1/2 teaspoon kosher salt\\n1/4  dried chipotle powder\\n1/8 teaspoon garlic powder\\n\\nInstructions: \\nPreheat the oven to 350 F. Butter or oil an 8-inch baking dish.\\nCook the penne 2 minutes less than package directions.\\n(It will finish cooking in the oven.)\\nRinse the pasta in cold water and set aside.\\nCombine the cooked pasta and the sauce in a medium bowl and mix carefully but thoroughly.\\nScrape the pasta into the prepared baking dish.\\nSprinkle the top with the cheeses and then the chili powder.\\nBake, uncovered, for 20 minutes.\\nLet the mac and cheese sit for 5 minutes before serving.\\nMelt the butter in a heavy-bottomed saucepan over medium heat and whisk in the flour.\\nContinue whisking and cooking for 2 minutes.\\nSlowly add the milk, whisking constantly.\\nCook until the sauce thickens, about '}"
      ]
     },
     "execution_count": 14,
     "metadata": {},
     "output_type": "execute_result"
    }
   ],
   "source": [
    "response"
   ]
  },
  {
   "cell_type": "code",
   "execution_count": 15,
   "metadata": {},
   "outputs": [
    {
     "name": "stdout",
     "output_type": "stream",
     "text": [
      ".\n",
      "\n",
      "System: Title: Worlds Best Mac and Cheese\n",
      "Ingredients: \n",
      "6 ounces penne\n",
      "2 cups cheese sauce\n",
      "1 ounce cheddar cheese\n",
      "1 ounce gruyere cheese\n",
      "1/4  dried chipotle powder\n",
      "1/4 cup unsalted butter\n",
      "1/3 cup all - purpose flour\n",
      "3 cups milk\n",
      "1/2 teaspoon kosher salt\n",
      "1/4  dried chipotle powder\n",
      "1/8 teaspoon garlic powder\n",
      "\n",
      "Instructions: \n",
      "Preheat the oven to 350 F. Butter or oil an 8-inch baking dish.\n",
      "Cook the penne 2 minutes less than package directions.\n",
      "(It will finish cooking in the oven.)\n",
      "Rinse the pasta in cold water and set aside.\n",
      "Combine the cooked pasta and the sauce in a medium bowl and mix carefully but thoroughly.\n",
      "Scrape the pasta into the prepared baking dish.\n",
      "Sprinkle the top with the cheeses and then the chili powder.\n",
      "Bake, uncovered, for 20 minutes.\n",
      "Let the mac and cheese sit for 5 minutes before serving.\n",
      "Melt the butter in a heavy-bottomed saucepan over medium heat and whisk in the flour.\n",
      "Continue whisking and cooking for 2 minutes.\n",
      "Slowly add the milk, whisking constantly.\n",
      "Cook until the sauce thickens, about \n"
     ]
    }
   ],
   "source": [
    "print(response['answer'])"
   ]
  },
  {
   "cell_type": "code",
   "execution_count": 20,
   "metadata": {},
   "outputs": [],
   "source": [
    "from qdrant_client import QdrantClient\n",
    "\n",
    "client = QdrantClient(url=\"http://localhost:6333\")"
   ]
  },
  {
   "cell_type": "code",
   "execution_count": 6,
   "metadata": {},
   "outputs": [
    {
     "name": "stderr",
     "output_type": "stream",
     "text": [
      "C:\\Users\\petar\\AppData\\Local\\Temp\\ipykernel_14972\\3925598924.py:3: DeprecationWarning: `recreate_collection` method is deprecated and will be removed in the future. Use `collection_exists` to check collection existence and `create_collection` instead.\n",
      "  client.recreate_collection(\n"
     ]
    },
    {
     "data": {
      "text/plain": [
       "True"
      ]
     },
     "execution_count": 6,
     "metadata": {},
     "output_type": "execute_result"
    }
   ],
   "source": [
    "from qdrant_client.models import Distance, VectorParams\n",
    "\n",
    "client.recreate_collection(\n",
    "    collection_name=\"recipe_collection_1\",\n",
    "    vectors_config=VectorParams(size=1536, distance=Distance.COSINE),\n",
    "    timeout=30\n",
    ")"
   ]
  },
  {
   "cell_type": "code",
   "execution_count": 24,
   "metadata": {},
   "outputs": [],
   "source": [
    "from langchain_qdrant import Qdrant\n",
    "\n",
    "qdrant = Qdrant.from_documents(\n",
    "    docs,\n",
    "    embeddings,\n",
    "    url=os.getenv(\"QDRANT_URL\"),\n",
    "    collection_name=\"recipe_collection_1\",\n",
    ")"
   ]
  },
  {
   "cell_type": "code",
   "execution_count": 25,
   "metadata": {},
   "outputs": [],
   "source": [
    "query = \"Mac and Cheese recipe\"\n",
    "found_docs = qdrant.similarity_search_with_score(query=query, k=1)"
   ]
  },
  {
   "cell_type": "code",
   "execution_count": 34,
   "metadata": {},
   "outputs": [
    {
     "data": {
      "text/plain": [
       "0.88183355"
      ]
     },
     "execution_count": 34,
     "metadata": {},
     "output_type": "execute_result"
    }
   ],
   "source": [
    "score = found_docs[0][-1]\n",
    "score"
   ]
  }
 ],
 "metadata": {
  "kernelspec": {
   "display_name": ".venv",
   "language": "python",
   "name": "python3"
  },
  "language_info": {
   "codemirror_mode": {
    "name": "ipython",
    "version": 3
   },
   "file_extension": ".py",
   "mimetype": "text/x-python",
   "name": "python",
   "nbconvert_exporter": "python",
   "pygments_lexer": "ipython3",
   "version": "3.10.7"
  }
 },
 "nbformat": 4,
 "nbformat_minor": 2
}
