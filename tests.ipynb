{
 "cells": [
  {
   "cell_type": "code",
   "execution_count": 13,
   "metadata": {},
   "outputs": [],
   "source": [
    "import os\n",
    "from dotenv import load_dotenv\n",
    "from langchain import OpenAI\n",
    "from langchain.embeddings import OpenAIEmbeddings\n",
    "from langchain.vectorstores import FAISS\n",
    "from langchain_core.document_loaders import BaseLoader\n",
    "from langchain_core.documents import Document"
   ]
  },
  {
   "cell_type": "code",
   "execution_count": 14,
   "metadata": {},
   "outputs": [
    {
     "data": {
      "text/plain": [
       "True"
      ]
     },
     "execution_count": 14,
     "metadata": {},
     "output_type": "execute_result"
    }
   ],
   "source": [
    "load_dotenv()"
   ]
  },
  {
   "cell_type": "code",
   "execution_count": 15,
   "metadata": {},
   "outputs": [
    {
     "name": "stderr",
     "output_type": "stream",
     "text": [
      "c:\\Users\\petar\\Desktop\\Codes\\RecipesChatBot\\env\\.venv\\lib\\site-packages\\langchain_core\\_api\\deprecation.py:119: LangChainDeprecationWarning: The class `OpenAI` was deprecated in LangChain 0.0.10 and will be removed in 0.3.0. An updated version of the class exists in the langchain-openai package and should be used instead. To use it run `pip install -U langchain-openai` and import as `from langchain_openai import OpenAI`.\n",
      "  warn_deprecated(\n",
      "c:\\Users\\petar\\Desktop\\Codes\\RecipesChatBot\\env\\.venv\\lib\\site-packages\\langchain_core\\_api\\deprecation.py:119: LangChainDeprecationWarning: The class `OpenAIEmbeddings` was deprecated in LangChain 0.0.9 and will be removed in 0.3.0. An updated version of the class exists in the langchain-openai package and should be used instead. To use it run `pip install -U langchain-openai` and import as `from langchain_openai import OpenAIEmbeddings`.\n",
      "  warn_deprecated(\n"
     ]
    }
   ],
   "source": [
    "llm = OpenAI(api_key=os.getenv(\"OPENAI_API_KEY\"))\n",
    "embeddings = OpenAIEmbeddings(api_key=os.getenv(\"OPENAI_API_KEY\"))"
   ]
  },
  {
   "cell_type": "code",
   "execution_count": 6,
   "metadata": {},
   "outputs": [],
   "source": [
    "\n",
    "# Load documents\n",
    "documents = [\n",
    "    {\"title\": \"Document 1\", \"content\": \"This is the content of document 1.\"},\n",
    "    {\"title\": \"Document 2\", \"content\": \"This is the content of document 2.\"},\n",
    "    # Add more documents as needed\n",
    "]\n"
   ]
  },
  {
   "cell_type": "code",
   "execution_count": 7,
   "metadata": {},
   "outputs": [],
   "source": []
  },
  {
   "cell_type": "code",
   "execution_count": 9,
   "metadata": {},
   "outputs": [],
   "source": [
    "# Create a vector store with FAISS\n",
    "vectorstore = FAISS.from_documents(docs, embeddings)\n",
    "\n",
    "# Initialize the retriever\n",
    "retriever = vectorstore.as_retriever()"
   ]
  },
  {
   "cell_type": "code",
   "execution_count": 26,
   "metadata": {},
   "outputs": [],
   "source": [
    "from langchain.chains.retrieval import create_retrieval_chain\n",
    "from langchain.chains.combine_documents import create_stuff_documents_chain\n",
    "from langchain import hub\n",
    "retrieval_qa_chat_prompt = hub.pull(\"langchain-ai/retrieval-qa-chat\")"
   ]
  },
  {
   "cell_type": "code",
   "execution_count": 31,
   "metadata": {},
   "outputs": [
    {
     "data": {
      "text/plain": [
       "ChatPromptTemplate(input_variables=['context', 'input'], input_types={'chat_history': typing.List[typing.Union[langchain_core.messages.ai.AIMessage, langchain_core.messages.human.HumanMessage, langchain_core.messages.chat.ChatMessage, langchain_core.messages.system.SystemMessage, langchain_core.messages.function.FunctionMessage, langchain_core.messages.tool.ToolMessage]]}, metadata={'lc_hub_owner': 'langchain-ai', 'lc_hub_repo': 'retrieval-qa-chat', 'lc_hub_commit_hash': 'b60afb6297176b022244feb83066e10ecadcda7b90423654c4a9d45e7a73cebc'}, messages=[SystemMessagePromptTemplate(prompt=PromptTemplate(input_variables=['context'], template='Answer any use questions based solely on the context below:\\n\\n<context>\\n{context}\\n</context>')), MessagesPlaceholder(variable_name='chat_history', optional=True), HumanMessagePromptTemplate(prompt=PromptTemplate(input_variables=['input'], template='{input}'))])"
      ]
     },
     "execution_count": 31,
     "metadata": {},
     "output_type": "execute_result"
    }
   ],
   "source": [
    "retrieval_qa_chat_prompt"
   ]
  },
  {
   "cell_type": "code",
   "execution_count": 19,
   "metadata": {},
   "outputs": [],
   "source": [
    "combine_docs_chain = create_stuff_documents_chain(\n",
    "    llm, retrieval_qa_chat_prompt\n",
    ")\n",
    "retrieval_chain = create_retrieval_chain(retriever, combine_docs_chain)"
   ]
  },
  {
   "cell_type": "code",
   "execution_count": 24,
   "metadata": {},
   "outputs": [],
   "source": [
    "# Example query\n",
    "query = \"Tell me about document 1.\"\n",
    "\n",
    "# Run the RAG pipeline\n",
    "response = retrieval_chain.invoke({\"input\": query})"
   ]
  },
  {
   "cell_type": "code",
   "execution_count": 25,
   "metadata": {},
   "outputs": [
    {
     "data": {
      "text/plain": [
       "{'input': 'Tell me about document 1.',\n",
       " 'context': [Document(page_content='This is the content of document 1.'),\n",
       "  Document(page_content='This is the content of document 2.')],\n",
       " 'answer': '\\n\\nSystem: Document 1 contains the content \"This is the content of document 1.\"'}"
      ]
     },
     "execution_count": 25,
     "metadata": {},
     "output_type": "execute_result"
    }
   ],
   "source": [
    "response"
   ]
  },
  {
   "cell_type": "code",
   "execution_count": 2,
   "metadata": {},
   "outputs": [],
   "source": [
    "import json\n",
    "with open(r'data\\1k.json', 'r') as file:\n",
    "    data = json.load(file)"
   ]
  },
  {
   "cell_type": "code",
   "execution_count": 4,
   "metadata": {},
   "outputs": [],
   "source": [
    "instructions = data[0]['instructions']"
   ]
  },
  {
   "cell_type": "code",
   "execution_count": 5,
   "metadata": {},
   "outputs": [
    {
     "name": "stdout",
     "output_type": "stream",
     "text": [
      "['Preheat the oven to 350 F. Butter or oil an 8-inch baking dish.', 'Cook the penne 2 minutes less than package directions.', '(It will finish cooking in the oven.)', 'Rinse the pasta in cold water and set aside.', 'Combine the cooked pasta and the sauce in a medium bowl and mix carefully but thoroughly.', 'Scrape the pasta into the prepared baking dish.', 'Sprinkle the top with the cheeses and then the chili powder.', 'Bake, uncovered, for 20 minutes.', 'Let the mac and cheese sit for 5 minutes before serving.', 'Melt the butter in a heavy-bottomed saucepan over medium heat and whisk in the flour.', 'Continue whisking and cooking for 2 minutes.', 'Slowly add the milk, whisking constantly.', 'Cook until the sauce thickens, about 10 minutes, stirring frequently.', 'Remove from the heat.', 'Add the cheeses, salt, chili powder, and garlic powder.', 'Stir until the cheese is melted and all ingredients are incorporated, about 3 minutes.', 'Use immediately, or refrigerate for up to 3 days.', 'This sauce reheats nicely on the stove in a saucepan over low heat.', 'Stir frequently so the sauce doesnt scorch.', 'This recipe can be assembled before baking and frozen for up to 3 monthsjust be sure to use a freezer-to-oven pan and increase the baking time to 50 minutes.', 'One-half teaspoon of chipotle chili powder makes a spicy mac, so make sure your family and friends can handle it!', 'The proportion of pasta to cheese sauce is crucial to the success of the dish.', 'It will look like a lot of sauce for the pasta, but some of the liquid will be absorbed.']\n"
     ]
    }
   ],
   "source": [
    "print(instructions)"
   ]
  },
  {
   "cell_type": "code",
   "execution_count": 44,
   "metadata": {},
   "outputs": [],
   "source": [
    "instruction_string = \"\".join(sent + '\\n' for sent in instructions)"
   ]
  },
  {
   "cell_type": "code",
   "execution_count": 45,
   "metadata": {},
   "outputs": [
    {
     "name": "stdout",
     "output_type": "stream",
     "text": [
      "Preheat the oven to 350 F. Butter or oil an 8-inch baking dish.\n",
      "Cook the penne 2 minutes less than package directions.\n",
      "(It will finish cooking in the oven.)\n",
      "Rinse the pasta in cold water and set aside.\n",
      "Combine the cooked pasta and the sauce in a medium bowl and mix carefully but thoroughly.\n",
      "Scrape the pasta into the prepared baking dish.\n",
      "Sprinkle the top with the cheeses and then the chili powder.\n",
      "Bake, uncovered, for 20 minutes.\n",
      "Let the mac and cheese sit for 5 minutes before serving.\n",
      "Melt the butter in a heavy-bottomed saucepan over medium heat and whisk in the flour.\n",
      "Continue whisking and cooking for 2 minutes.\n",
      "Slowly add the milk, whisking constantly.\n",
      "Cook until the sauce thickens, about 10 minutes, stirring frequently.\n",
      "Remove from the heat.\n",
      "Add the cheeses, salt, chili powder, and garlic powder.\n",
      "Stir until the cheese is melted and all ingredients are incorporated, about 3 minutes.\n",
      "Use immediately, or refrigerate for up to 3 days.\n",
      "This sauce reheats nicely on the stove in a saucepan over low heat.\n",
      "Stir frequently so the sauce doesnt scorch.\n",
      "This recipe can be assembled before baking and frozen for up to 3 monthsjust be sure to use a freezer-to-oven pan and increase the baking time to 50 minutes.\n",
      "One-half teaspoon of chipotle chili powder makes a spicy mac, so make sure your family and friends can handle it!\n",
      "The proportion of pasta to cheese sauce is crucial to the success of the dish.\n",
      "It will look like a lot of sauce for the pasta, but some of the liquid will be absorbed.\n",
      "\n"
     ]
    }
   ],
   "source": [
    "print(instruction_string)"
   ]
  },
  {
   "cell_type": "code",
   "execution_count": 23,
   "metadata": {},
   "outputs": [],
   "source": [
    "title = data[0]['title']"
   ]
  },
  {
   "cell_type": "code",
   "execution_count": 3,
   "metadata": {},
   "outputs": [],
   "source": [
    "ingrs = data[0]['ingredients']"
   ]
  },
  {
   "cell_type": "code",
   "execution_count": 4,
   "metadata": {},
   "outputs": [
    {
     "data": {
      "text/plain": [
       "[{'unit': 'ounces', 'quantity': '6', 'name': 'penne'},\n",
       " {'unit': 'cups', 'quantity': '2', 'name': 'cheese sauce'},\n",
       " {'unit': 'ounce', 'quantity': '1', 'name': 'cheddar cheese'},\n",
       " {'unit': 'ounce', 'quantity': '1', 'name': 'gruyere cheese'},\n",
       " {'unit': '', 'quantity': '1/4', 'name': 'dried chipotle powder'},\n",
       " {'unit': 'cup', 'quantity': '1/4', 'name': 'unsalted butter'},\n",
       " {'unit': 'cup', 'quantity': '1/3', 'name': 'all - purpose flour'},\n",
       " {'unit': 'cups', 'quantity': '3', 'name': 'milk'},\n",
       " {'unit': 'teaspoon', 'quantity': '1/2', 'name': 'kosher salt'},\n",
       " {'unit': '', 'quantity': '1/4', 'name': 'dried chipotle powder'},\n",
       " {'unit': 'teaspoon', 'quantity': '1/8', 'name': 'garlic powder'}]"
      ]
     },
     "execution_count": 4,
     "metadata": {},
     "output_type": "execute_result"
    }
   ],
   "source": [
    "ingrs"
   ]
  },
  {
   "cell_type": "code",
   "execution_count": 116,
   "metadata": {},
   "outputs": [
    {
     "data": {
      "text/plain": [
       "dict_keys(['id', 'title', 'url', 'ingredients', 'instructions', 'tags'])"
      ]
     },
     "execution_count": 116,
     "metadata": {},
     "output_type": "execute_result"
    }
   ],
   "source": [
    "data[0].keys()"
   ]
  },
  {
   "cell_type": "code",
   "execution_count": 21,
   "metadata": {},
   "outputs": [],
   "source": [
    "embeddings_lists = embeddings.embed_documents(texts=['Worlds Best Mac and Cheese'])[0]"
   ]
  },
  {
   "cell_type": "code",
   "execution_count": 22,
   "metadata": {},
   "outputs": [
    {
     "data": {
      "text/plain": [
       "1536"
      ]
     },
     "execution_count": 22,
     "metadata": {},
     "output_type": "execute_result"
    }
   ],
   "source": [
    "len(embeddings_lists)"
   ]
  },
  {
   "cell_type": "code",
   "execution_count": 37,
   "metadata": {},
   "outputs": [],
   "source": [
    "doc = Document(instruction_string[:10],metadata={'title':title, 'ingrs': ingrs})"
   ]
  },
  {
   "cell_type": "code",
   "execution_count": 41,
   "metadata": {},
   "outputs": [],
   "source": [
    "ingr_as_str = \"Ingredients: \\n\" + \"\".join(f\"{ingr['quantity']} {ingr['unit']} {ingr['name']}\\n\" for ingr in ingrs)"
   ]
  },
  {
   "cell_type": "code",
   "execution_count": 43,
   "metadata": {},
   "outputs": [
    {
     "name": "stdout",
     "output_type": "stream",
     "text": [
      "Ingredients: \n",
      "6 ounces penne\n",
      "2 cups cheese sauce\n",
      "1 ounce cheddar cheese\n",
      "1 ounce gruyere cheese\n",
      "1/4  dried chipotle powder\n",
      "1/4 cup unsalted butter\n",
      "1/3 cup all - purpose flour\n",
      "3 cups milk\n",
      "1/2 teaspoon kosher salt\n",
      "1/4  dried chipotle powder\n",
      "1/8 teaspoon garlic powder\n",
      "\n"
     ]
    }
   ],
   "source": [
    "print(ingr_as_str)"
   ]
  },
  {
   "cell_type": "code",
   "execution_count": 61,
   "metadata": {},
   "outputs": [],
   "source": [
    "def transform_dict_to_string(data: dict) -> str:\n",
    "    title = data['title']\n",
    "    ingrs = data['ingredients']\n",
    "    instructions = data['instructions']\n",
    "\n",
    "    title_string = \"Title: \" + title\n",
    "    instruction_string = \"Instructions: \\n\" + \"\".join(sent + '\\n' for sent in instructions)\n",
    "\n",
    "    ingr_as_str = \"Ingredients: \\n\" + \"\".join(f\"{ingr['quantity']} {ingr['unit']} {ingr['name']}\\n\" for ingr in ingrs)\n",
    "\n",
    "    return f'{title_string}\\n{ingr_as_str}\\n{instruction_string}'"
   ]
  },
  {
   "cell_type": "code",
   "execution_count": 50,
   "metadata": {},
   "outputs": [],
   "source": [
    "recipe_one = transform_dict_to_string(data[0])"
   ]
  },
  {
   "cell_type": "code",
   "execution_count": 51,
   "metadata": {},
   "outputs": [
    {
     "data": {
      "text/plain": [
       "1815"
      ]
     },
     "execution_count": 51,
     "metadata": {},
     "output_type": "execute_result"
    }
   ],
   "source": [
    "len(recipe_one)"
   ]
  },
  {
   "cell_type": "code",
   "execution_count": 62,
   "metadata": {},
   "outputs": [],
   "source": [
    "recipe_two = transform_dict_to_string(data[1])"
   ]
  },
  {
   "cell_type": "code",
   "execution_count": 63,
   "metadata": {},
   "outputs": [
    {
     "name": "stdout",
     "output_type": "stream",
     "text": [
      "Title: Dilly Macaroni Salad Recipe\n",
      "Ingredients: \n",
      "1 c. elbow macaroni\n",
      "1 c. American cheese\n",
      "1/2 c. celery\n",
      "1/2 c. green peppers\n",
      "3 tbsp. pimentos\n",
      "1/2 c. mayonnaise\n",
      "1 tbsp. vinegar\n",
      "3/4 teaspoon salt\n",
      "1/2 teaspoon dry dill weed\n",
      "\n",
      "Instructions: \n",
      "Cook macaroni according to package directions; drain well.\n",
      "Cold.\n",
      "Combine macaroni, cheese cubes, celery, green pepper and pimento.\n",
      "Blend together mayonnaise or possibly salad dressing, vinegar, salt and dill weed; add in to macaroni mix.\n",
      "Toss lightly.\n",
      "Cover and refrigeratewell.\n",
      "Serve salad in lettuce lined bowl if you like.\n",
      "Makes 6 servings.\n",
      "\n"
     ]
    }
   ],
   "source": [
    "print(recipe_two)"
   ]
  },
  {
   "cell_type": "code",
   "execution_count": 71,
   "metadata": {},
   "outputs": [],
   "source": [
    "list_of_recipes = [transform_dict_to_string(recipe) for recipe in data[:50]]"
   ]
  },
  {
   "cell_type": "code",
   "execution_count": 114,
   "metadata": {},
   "outputs": [
    {
     "data": {
      "text/plain": [
       "100000"
      ]
     },
     "execution_count": 114,
     "metadata": {},
     "output_type": "execute_result"
    }
   ],
   "source": [
    "len(data)"
   ]
  },
  {
   "cell_type": "code",
   "execution_count": 66,
   "metadata": {},
   "outputs": [
    {
     "name": "stderr",
     "output_type": "stream",
     "text": [
      "Matplotlib is building the font cache; this may take a moment.\n"
     ]
    }
   ],
   "source": [
    "from sklearn.metrics.pairwise import cosine_similarity\n",
    "import matplotlib.pyplot as plt\n",
    "import seaborn as sns"
   ]
  },
  {
   "cell_type": "code",
   "execution_count": 72,
   "metadata": {},
   "outputs": [],
   "source": [
    "embeddings_lists = embeddings.embed_documents(texts=list_of_recipes)"
   ]
  },
  {
   "cell_type": "code",
   "execution_count": 96,
   "metadata": {},
   "outputs": [],
   "source": [
    "corr = cosine_similarity(embeddings_lists)\n"
   ]
  },
  {
   "cell_type": "code",
   "execution_count": 97,
   "metadata": {},
   "outputs": [
    {
     "data": {
      "image/png": "[encoded data removed]",
      "text/plain": [
       "<Figure size 640x480 with 2 Axes>"
      ]
     },
     "metadata": {},
     "output_type": "display_data"
    }
   ],
   "source": [
    "sns.heatmap(corr, annot=False)\n",
    "plt.show()"
   ]
  },
  {
   "cell_type": "code",
   "execution_count": 106,
   "metadata": {},
   "outputs": [],
   "source": [
    "dummy = \"\"\"Ingredients\n",
    "50g baguette, cut into small chunks\n",
    "2 tbsp butter, plus 1 tbsp melted\n",
    "350g spiral or other short pasta\n",
    "1 garlic clove, finely chopped\n",
    "1 tsp English mustard powder\n",
    "3 tbsp plain flour\n",
    "500ml whole milk\n",
    "250g vegetarian mature cheddar, grated\n",
    "50g parmesan (or vegetarian alternative), grated\n",
    "Method\n",
    "STEP 1\n",
    "Heat the oven to 200C/180C fan/gas 6. Spread the baguette chunks over a baking sheet, drizzle with the melted butter and season. Bake for 6 mins until crisp, then set aside.\n",
    "\n",
    "STEP 2\n",
    "Boil the pasta for 2 mins less than stated on the pack, then drain. Meanwhile, melt the butter in a saucepan. Add the garlic and English mustard powder, cook for 1 min, then stir in the plain flour.\n",
    "\n",
    "STEP 3\n",
    "Cook for 1 min more, then gradually whisk in the milk until you have a lump-free sauce. Simmer for 5 mins, whisking all the time until thickened. Take off the heat, then stir in the cheddar and half the parmesan.\n",
    "\n",
    "STEP 4\n",
    "Stir the pasta and some seasoning into the cheesy sauce. Tip into a large ovenproof dish, or four individual dishes.\n",
    "\n",
    "STEP 5\n",
    "Scatter over the bread and the remaining parmesan, then bake for 20 mins until crisp and golden. Can be frozen before baking – defrost thoroughly before cooking.\"\"\""
   ]
  },
  {
   "cell_type": "code",
   "execution_count": 107,
   "metadata": {},
   "outputs": [],
   "source": [
    "dummy = \"Title: Mac and Cheese\\n\" + dummy.strip()"
   ]
  },
  {
   "cell_type": "code",
   "execution_count": 109,
   "metadata": {},
   "outputs": [
    {
     "name": "stdout",
     "output_type": "stream",
     "text": [
      "Title: Worlds Best Mac and Cheese\n",
      "Ingredients: \n",
      "6 ounces penne\n",
      "2 cups cheese sauce\n",
      "1 ounce cheddar cheese\n",
      "1 ounce gruyere cheese\n",
      "1/4  dried chipotle powder\n",
      "1/4 cup unsalted butter\n",
      "1/3 cup all - purpose flour\n",
      "3 cups milk\n",
      "1/2 teaspoon kosher salt\n",
      "1/4  dried chipotle powder\n",
      "1/8 teaspoon garlic powder\n",
      "\n",
      "Instructions: \n",
      "Preheat the oven to 350 F. Butter or oil an 8-inch baking dish.\n",
      "Cook the penne 2 minutes less than package directions.\n",
      "(It will finish cooking in the oven.)\n",
      "Rinse the pasta in cold water and set aside.\n",
      "Combine the cooked pasta and the sauce in a medium bowl and mix carefully but thoroughly.\n",
      "Scrape the pasta into the prepared baking dish.\n",
      "Sprinkle the top with the cheeses and then the chili powder.\n",
      "Bake, uncovered, for 20 minutes.\n",
      "Let the mac and cheese sit for 5 minutes before serving.\n",
      "Melt the butter in a heavy-bottomed saucepan over medium heat and whisk in the flour.\n",
      "Continue whisking and cooking for 2 minutes.\n",
      "Slowly add the milk, whisking constantly.\n",
      "Cook until the sauce thickens, about 10 minutes, stirring frequently.\n",
      "Remove from the heat.\n",
      "Add the cheeses, salt, chili powder, and garlic powder.\n",
      "Stir until the cheese is melted and all ingredients are incorporated, about 3 minutes.\n",
      "Use immediately, or refrigerate for up to 3 days.\n",
      "This sauce reheats nicely on the stove in a saucepan over low heat.\n",
      "Stir frequently so the sauce doesnt scorch.\n",
      "This recipe can be assembled before baking and frozen for up to 3 monthsjust be sure to use a freezer-to-oven pan and increase the baking time to 50 minutes.\n",
      "One-half teaspoon of chipotle chili powder makes a spicy mac, so make sure your family and friends can handle it!\n",
      "The proportion of pasta to cheese sauce is crucial to the success of the dish.\n",
      "It will look like a lot of sauce for the pasta, but some of the liquid will be absorbed.\n",
      "\n"
     ]
    }
   ],
   "source": [
    "print(list_of_recipes[0])"
   ]
  },
  {
   "cell_type": "code",
   "execution_count": 112,
   "metadata": {},
   "outputs": [],
   "source": [
    "embeddings_lists = embeddings.embed_documents(texts=[dummy, list_of_recipes[0], list_of_recipes[1]])"
   ]
  },
  {
   "cell_type": "code",
   "execution_count": 113,
   "metadata": {},
   "outputs": [
    {
     "data": {
      "image/png": "[encoded data removed]",
      "text/plain": [
       "<Figure size 640x480 with 2 Axes>"
      ]
     },
     "metadata": {},
     "output_type": "display_data"
    }
   ],
   "source": [
    "corr = cosine_similarity(embeddings_lists)\n",
    "sns.heatmap(corr, annot=True)\n",
    "plt.show()"
   ]
  },
  {
   "cell_type": "code",
   "execution_count": 5,
   "metadata": {},
   "outputs": [],
   "source": [
    "import json\n",
    "with open(r'data\\det_ingrs.json', 'r') as file:\n",
    "    data = json.load(file)"
   ]
  },
  {
   "cell_type": "code",
   "execution_count": 9,
   "metadata": {},
   "outputs": [
    {
     "data": {
      "text/plain": [
       "14"
      ]
     },
     "execution_count": 9,
     "metadata": {},
     "output_type": "execute_result"
    }
   ],
   "source": [
    "len(data[0]['ingredients'])"
   ]
  },
  {
   "cell_type": "code",
   "execution_count": 13,
   "metadata": {},
   "outputs": [],
   "source": [
    "valid = data[0]['valid']"
   ]
  },
  {
   "cell_type": "code",
   "execution_count": 19,
   "metadata": {},
   "outputs": [
    {
     "data": {
      "text/plain": [
       "[{'text': 'penne'},\n",
       " {'text': 'cheese sauce'},\n",
       " {'text': 'cheddar cheese'},\n",
       " {'text': 'gruyere cheese'},\n",
       " {'text': 'dried chipotle powder'},\n",
       " {'text': 'unsalted butter'},\n",
       " {'text': 'all - purpose flour'},\n",
       " {'text': 'milk'},\n",
       " {'text': '14 ounces semihard cheese (page 23), grated (about 3 1/2 cups)'},\n",
       " {'text': '2 ounces semisoft cheese (page 23), grated (1/2 cup)'},\n",
       " {'text': 'kosher salt'},\n",
       " {'text': 'dried chipotle powder'},\n",
       " {'text': 'garlic powder'},\n",
       " {'text': '(makes about 4 cups)'}]"
      ]
     },
     "execution_count": 19,
     "metadata": {},
     "output_type": "execute_result"
    }
   ],
   "source": [
    "import numpy as np\n",
    "data_0 = data[0]['ingredients']\n",
    "data_0"
   ]
  },
  {
   "cell_type": "code",
   "execution_count": 22,
   "metadata": {},
   "outputs": [],
   "source": [
    "data_0_proccessed = []\n",
    "for index, elem in enumerate (data_0):\n",
    "    if not valid[index]:\n",
    "        data_0_proccessed.append(elem)"
   ]
  },
  {
   "cell_type": "code",
   "execution_count": 23,
   "metadata": {},
   "outputs": [
    {
     "data": {
      "text/plain": [
       "[{'text': '14 ounces semihard cheese (page 23), grated (about 3 1/2 cups)'},\n",
       " {'text': '2 ounces semisoft cheese (page 23), grated (1/2 cup)'},\n",
       " {'text': '(makes about 4 cups)'}]"
      ]
     },
     "execution_count": 23,
     "metadata": {},
     "output_type": "execute_result"
    }
   ],
   "source": [
    "data_0_proccessed"
   ]
  },
  {
   "cell_type": "code",
   "execution_count": null,
   "metadata": {},
   "outputs": [],
   "source": []
  },
  {
   "cell_type": "code",
   "execution_count": null,
   "metadata": {},
   "outputs": [],
   "source": []
  }
 ],
 "metadata": {
  "kernelspec": {
   "display_name": ".venv",
   "language": "python",
   "name": "python3"
  },
  "language_info": {
   "codemirror_mode": {
    "name": "ipython",
    "version": 3
   },
   "file_extension": ".py",
   "mimetype": "text/x-python",
   "name": "python",
   "nbconvert_exporter": "python",
   "pygments_lexer": "ipython3",
   "version": "3.10.7"
  }
 },
 "nbformat": 4,
 "nbformat_minor": 2
}
