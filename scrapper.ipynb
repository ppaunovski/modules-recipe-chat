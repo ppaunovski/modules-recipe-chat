{
 "cells": [
  {
   "cell_type": "code",
   "execution_count": 57,
   "metadata": {},
   "outputs": [],
   "source": [
    "from bs4 import BeautifulSoup\n",
    "import requests\n",
    "import pandas as pd\n",
    "from tqdm import tqdm"
   ]
  },
  {
   "cell_type": "code",
   "execution_count": 55,
   "metadata": {},
   "outputs": [],
   "source": [
    "def extract_info_from_ing_url(ing_url: str) -> list:\n",
    "\n",
    "    # Get response\n",
    "    response = requests.get(ing_url)\n",
    "    soup = BeautifulSoup(response.text, \"html.parser\")\n",
    "\n",
    "    card = soup.find('div', class_='ingredient')\n",
    "\n",
    "    # Get title\n",
    "    title = card.find('h1').text\n",
    "\n",
    "    #Get desc\n",
    "    desc_div = card.find('div', class_='ingredient-description')\n",
    "    desc = desc_div.text if desc_div else None\n",
    "\n",
    "\n",
    "\n",
    "    #Get also known as\n",
    "    also_known_as_div = card.find('div', class_='ingredient-info-header')\n",
    "    if also_known_as_div:\n",
    "        if 'also known as' in also_known_as_div.text.lower():\n",
    "            also_known_as = also_known_as_div.next_sibling.text\n",
    "        else:\n",
    "            also_known_as = None\n",
    "    else:\n",
    "        also_known_as = None\n",
    "        \n",
    "\n",
    "    #Get Scientific Name\n",
    "    try:\n",
    "        scientific_name_div = card.find('div', class_=\"flex-item\").find('div', class_='ingredient-scientific-name').next_element\n",
    "        scientific_name = scientific_name_div.text\n",
    "    except:\n",
    "        scientific_name = None\n",
    "\n",
    "\n",
    "\n",
    "    subs = soup.find_all('div', class_='sortable-row card my-3 border-0')\n",
    "    \n",
    "    list_of_subs = []\n",
    "    for sub in subs:\n",
    "        name = sub.find('a').text\n",
    "        list_of_subs.append(name)\n",
    "\n",
    "    return [title, desc, also_known_as, scientific_name, list_of_subs]\n"
   ]
  },
  {
   "cell_type": "code",
   "execution_count": 60,
   "metadata": {},
   "outputs": [],
   "source": [
    "def extract_cards_from_page(url: str) -> list:\n",
    "\n",
    "    base_url = 'https://foodsubs.com'\n",
    "\n",
    "    response = requests.get(url)\n",
    "    bs = BeautifulSoup(response.text, \"html.parser\")\n",
    "\n",
    "    container = bs.find('div', class_='ingredients-container')\n",
    "    cards = container.find_all('div', class_='ingredient card border-0 mb-2')\n",
    "\n",
    "    extracted_info = []\n",
    "    for card in tqdm(cards):\n",
    "        href = card.find('a', class_='card-learn-more')['href']\n",
    "\n",
    "        extracted_info.append(extract_info_from_ing_url(base_url + href))\n",
    "\n",
    "    return extracted_info\n",
    "    "
   ]
  },
  {
   "cell_type": "code",
   "execution_count": 95,
   "metadata": {},
   "outputs": [],
   "source": [
    "def all_subs_of_type(type_of_food: str) -> pd.DataFrame:\n",
    "    \n",
    "    print(f\"Scrapping group type {type_of_food}\")\n",
    "    \n",
    "    full_accompanimnets = []\n",
    "    for i in range(21):\n",
    "        url = f'https://foodsubs.com/groups/{type_of_food}?page.number={i}&page.size=40&i=true'\n",
    "        full_accompanimnets.extend(extract_cards_from_page(url=url))\n",
    "\n",
    "    dict_of_substitutes = {\n",
    "    'Name': [],\n",
    "    'Description': [],\n",
    "    'Also known as': [],\n",
    "    'Scientific name': [],\n",
    "    'Substitutions': [],\n",
    "    }\n",
    "    \n",
    "    for index, (_, value) in enumerate(dict_of_substitutes.items()):\n",
    "        for item in full_accompanimnets:\n",
    "            value.append(item[index])\n",
    "\n",
    "    subs_df = pd.DataFrame(dict_of_substitutes)\n",
    "\n",
    "    subs_df.to_csv(f'data\\scrapped_{type_of_food}.csv')\n",
    "\n",
    "    return subs_df"
   ]
  },
  {
   "cell_type": "code",
   "execution_count": 97,
   "metadata": {},
   "outputs": [],
   "source": [
    "list_of_types = [\n",
    "    'flavorings',\n",
    "    'accompaniments',\n",
    "    'baked-goods',\n",
    "    'baking-supplies',\n",
    "    'dairy',\n",
    "    'equipment',\n",
    "    'vegetarian',\n",
    "    'vegetables',\n",
    "    'miscellaneous',\n",
    "    'fats-oils',\n",
    "    'fish',\n",
    "    'fruit',\n",
    "    'grain-products',\n",
    "    'grains',\n",
    "    'legumes-nuts',\n",
    "    'liquids',\n",
    "    'meats',\n",
    "]"
   ]
  },
  {
   "cell_type": "code",
   "execution_count": 98,
   "metadata": {},
   "outputs": [
    {
     "name": "stdout",
     "output_type": "stream",
     "text": [
      "Scrapping group type fruit\n"
     ]
    },
    {
     "name": "stderr",
     "output_type": "stream",
     "text": [
      "100%|██████████| 40/40 [00:47<00:00,  1.18s/it]\n",
      "100%|██████████| 40/40 [00:47<00:00,  1.19s/it]\n",
      "100%|██████████| 40/40 [00:47<00:00,  1.18s/it]\n",
      "100%|██████████| 40/40 [00:47<00:00,  1.18s/it]\n",
      "100%|██████████| 40/40 [00:47<00:00,  1.18s/it]\n",
      "100%|██████████| 40/40 [00:47<00:00,  1.18s/it]\n",
      "100%|██████████| 40/40 [00:47<00:00,  1.18s/it]\n",
      "100%|██████████| 40/40 [00:47<00:00,  1.18s/it]\n",
      "100%|██████████| 40/40 [00:47<00:00,  1.18s/it]\n",
      "100%|██████████| 40/40 [00:48<00:00,  1.22s/it]\n",
      "100%|██████████| 40/40 [00:47<00:00,  1.19s/it]\n",
      "100%|██████████| 40/40 [00:47<00:00,  1.18s/it]\n",
      "100%|██████████| 31/31 [00:36<00:00,  1.18s/it]\n",
      "0it [00:00, ?it/s]\n",
      "0it [00:00, ?it/s]\n",
      "0it [00:00, ?it/s]\n",
      "0it [00:00, ?it/s]\n",
      "0it [00:00, ?it/s]\n",
      "0it [00:00, ?it/s]\n",
      "0it [00:00, ?it/s]\n",
      "0it [00:00, ?it/s]\n"
     ]
    },
    {
     "name": "stdout",
     "output_type": "stream",
     "text": [
      "Scrapping group type grain-products\n"
     ]
    },
    {
     "name": "stderr",
     "output_type": "stream",
     "text": [
      "100%|██████████| 40/40 [00:47<00:00,  1.19s/it]\n",
      "100%|██████████| 40/40 [00:47<00:00,  1.19s/it]\n",
      "100%|██████████| 40/40 [00:47<00:00,  1.19s/it]\n",
      "100%|██████████| 40/40 [00:47<00:00,  1.18s/it]\n",
      "100%|██████████| 40/40 [00:47<00:00,  1.19s/it]\n",
      "100%|██████████| 40/40 [00:47<00:00,  1.18s/it]\n",
      "100%|██████████| 40/40 [00:47<00:00,  1.19s/it]\n",
      "100%|██████████| 40/40 [00:47<00:00,  1.19s/it]\n",
      "100%|██████████| 31/31 [00:36<00:00,  1.19s/it]\n",
      "0it [00:00, ?it/s]\n",
      "0it [00:00, ?it/s]\n",
      "0it [00:00, ?it/s]\n",
      "0it [00:00, ?it/s]\n",
      "0it [00:00, ?it/s]\n",
      "0it [00:00, ?it/s]\n",
      "0it [00:00, ?it/s]\n",
      "0it [00:00, ?it/s]\n",
      "0it [00:00, ?it/s]\n",
      "0it [00:00, ?it/s]\n",
      "0it [00:00, ?it/s]\n",
      "0it [00:00, ?it/s]\n"
     ]
    },
    {
     "name": "stdout",
     "output_type": "stream",
     "text": [
      "Scrapping group type grains\n"
     ]
    },
    {
     "name": "stderr",
     "output_type": "stream",
     "text": [
      "100%|██████████| 40/40 [00:47<00:00,  1.18s/it]\n",
      "100%|██████████| 40/40 [00:47<00:00,  1.18s/it]\n",
      "100%|██████████| 16/16 [00:18<00:00,  1.18s/it]\n",
      "0it [00:00, ?it/s]\n",
      "0it [00:00, ?it/s]\n",
      "0it [00:00, ?it/s]\n",
      "0it [00:00, ?it/s]\n",
      "0it [00:00, ?it/s]\n",
      "0it [00:00, ?it/s]\n",
      "0it [00:00, ?it/s]\n",
      "0it [00:00, ?it/s]\n",
      "0it [00:00, ?it/s]\n",
      "0it [00:00, ?it/s]\n",
      "0it [00:00, ?it/s]\n",
      "0it [00:00, ?it/s]\n",
      "0it [00:00, ?it/s]\n",
      "0it [00:00, ?it/s]\n",
      "0it [00:00, ?it/s]\n",
      "0it [00:00, ?it/s]\n",
      "0it [00:00, ?it/s]\n",
      "0it [00:00, ?it/s]\n"
     ]
    },
    {
     "name": "stdout",
     "output_type": "stream",
     "text": [
      "Scrapping group type legumes-nuts\n"
     ]
    },
    {
     "name": "stderr",
     "output_type": "stream",
     "text": [
      "100%|██████████| 40/40 [00:47<00:00,  1.18s/it]\n",
      "100%|██████████| 40/40 [00:47<00:00,  1.18s/it]\n",
      "100%|██████████| 40/40 [00:46<00:00,  1.17s/it]\n",
      "100%|██████████| 40/40 [00:47<00:00,  1.19s/it]\n",
      "100%|██████████| 40/40 [00:47<00:00,  1.18s/it]\n",
      "100%|██████████| 2/2 [00:02<00:00,  1.26s/it]\n",
      "0it [00:00, ?it/s]\n",
      "0it [00:00, ?it/s]\n",
      "0it [00:00, ?it/s]\n",
      "0it [00:00, ?it/s]\n",
      "0it [00:00, ?it/s]\n",
      "0it [00:00, ?it/s]\n",
      "0it [00:00, ?it/s]\n",
      "0it [00:00, ?it/s]\n",
      "0it [00:00, ?it/s]\n",
      "0it [00:00, ?it/s]\n",
      "0it [00:00, ?it/s]\n",
      "0it [00:00, ?it/s]\n",
      "0it [00:00, ?it/s]\n",
      "0it [00:00, ?it/s]\n",
      "0it [00:00, ?it/s]\n"
     ]
    },
    {
     "name": "stdout",
     "output_type": "stream",
     "text": [
      "Scrapping group type liquids\n"
     ]
    },
    {
     "name": "stderr",
     "output_type": "stream",
     "text": [
      "100%|██████████| 40/40 [00:47<00:00,  1.18s/it]\n",
      "100%|██████████| 40/40 [00:47<00:00,  1.18s/it]\n",
      "100%|██████████| 40/40 [00:47<00:00,  1.18s/it]\n",
      "100%|██████████| 40/40 [00:47<00:00,  1.18s/it]\n",
      "100%|██████████| 40/40 [00:47<00:00,  1.19s/it]\n",
      "100%|██████████| 40/40 [00:47<00:00,  1.19s/it]\n",
      "100%|██████████| 40/40 [00:47<00:00,  1.19s/it]\n",
      "100%|██████████| 40/40 [00:47<00:00,  1.18s/it]\n",
      "100%|██████████| 40/40 [00:47<00:00,  1.19s/it]\n",
      "100%|██████████| 40/40 [00:47<00:00,  1.19s/it]\n",
      "100%|██████████| 40/40 [00:47<00:00,  1.19s/it]\n",
      "100%|██████████| 1/1 [00:01<00:00,  1.20s/it]\n",
      "0it [00:00, ?it/s]\n",
      "0it [00:00, ?it/s]\n",
      "0it [00:00, ?it/s]\n",
      "0it [00:00, ?it/s]\n",
      "0it [00:00, ?it/s]\n",
      "0it [00:00, ?it/s]\n",
      "0it [00:00, ?it/s]\n",
      "0it [00:00, ?it/s]\n",
      "0it [00:00, ?it/s]\n"
     ]
    },
    {
     "name": "stdout",
     "output_type": "stream",
     "text": [
      "Scrapping group type meats\n"
     ]
    },
    {
     "name": "stderr",
     "output_type": "stream",
     "text": [
      "100%|██████████| 40/40 [00:47<00:00,  1.19s/it]\n",
      "100%|██████████| 40/40 [00:47<00:00,  1.19s/it]\n",
      "100%|██████████| 40/40 [00:47<00:00,  1.18s/it]\n",
      "100%|██████████| 40/40 [00:47<00:00,  1.19s/it]\n",
      "100%|██████████| 40/40 [00:47<00:00,  1.18s/it]\n",
      "100%|██████████| 40/40 [00:47<00:00,  1.19s/it]\n",
      "100%|██████████| 40/40 [00:47<00:00,  1.19s/it]\n",
      "100%|██████████| 40/40 [00:47<00:00,  1.18s/it]\n",
      "100%|██████████| 30/30 [00:35<00:00,  1.19s/it]\n",
      "0it [00:00, ?it/s]\n",
      "0it [00:00, ?it/s]\n",
      "0it [00:00, ?it/s]\n",
      "0it [00:00, ?it/s]\n",
      "0it [00:00, ?it/s]\n",
      "0it [00:00, ?it/s]\n",
      "0it [00:00, ?it/s]\n",
      "0it [00:00, ?it/s]\n",
      "0it [00:00, ?it/s]\n",
      "0it [00:00, ?it/s]\n",
      "0it [00:00, ?it/s]\n",
      "0it [00:00, ?it/s]\n"
     ]
    }
   ],
   "source": [
    "for food in list_of_types:\n",
    "    all_subs_of_type(food)"
   ]
  }
 ],
 "metadata": {
  "kernelspec": {
   "display_name": ".venv",
   "language": "python",
   "name": "python3"
  },
  "language_info": {
   "codemirror_mode": {
    "name": "ipython",
    "version": 3
   },
   "file_extension": ".py",
   "mimetype": "text/x-python",
   "name": "python",
   "nbconvert_exporter": "python",
   "pygments_lexer": "ipython3",
   "version": "3.10.7"
  }
 },
 "nbformat": 4,
 "nbformat_minor": 2
}
